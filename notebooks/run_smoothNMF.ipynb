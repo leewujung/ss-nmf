{
 "cells": [
  {
   "cell_type": "code",
   "execution_count": 30,
   "metadata": {},
   "outputs": [],
   "source": [
    "import numpy.testing as nt"
   ]
  },
  {
   "cell_type": "code",
   "execution_count": 31,
   "metadata": {},
   "outputs": [],
   "source": [
    "import matplotlib.pyplot as plt\n",
    "%matplotlib inline"
   ]
  },
  {
   "cell_type": "code",
   "execution_count": 32,
   "metadata": {},
   "outputs": [],
   "source": [
    "import numpy.linalg as LA"
   ]
  },
  {
   "cell_type": "code",
   "execution_count": 33,
   "metadata": {},
   "outputs": [],
   "source": [
    "import os"
   ]
  },
  {
   "cell_type": "code",
   "execution_count": 34,
   "metadata": {},
   "outputs": [],
   "source": [
    "from scipy.io import loadmat\n",
    "output = loadmat(os.path.join('..','ssnmf','data','output.mat'))"
   ]
  },
  {
   "cell_type": "code",
   "execution_count": 35,
   "metadata": {},
   "outputs": [
    {
     "name": "stdout",
     "output_type": "stream",
     "text": [
      "97.55296778898247\n"
     ]
    }
   ],
   "source": [
    "# testing no sparsity, no smoothnes, 1 iteration\n",
    "import ssnmf\n",
    "model = ssnmf.smoothNMF(r=5, max_iter=1, betaW=0, betaH=0)\n",
    "model.fit(output['V'], W=output['init_W'], H=output['init_H'], init='custom')\n",
    "\n",
    "print(LA.norm(output['V'] - (model.W@model.H)))"
   ]
  },
  {
   "cell_type": "code",
   "execution_count": 36,
   "metadata": {},
   "outputs": [],
   "source": [
    "# testing the initial distance\n",
    "nt.assert_almost_equal(LA.norm(output['V'] - (output['init_W']@output['init_H'])),213.432630275)"
   ]
  },
  {
   "cell_type": "code",
   "execution_count": 37,
   "metadata": {},
   "outputs": [],
   "source": [
    "# compare cost after 1 iteration\n",
    "nt.assert_almost_equal(model.cost, 9516.581524438)"
   ]
  },
  {
   "cell_type": "code",
   "execution_count": 38,
   "metadata": {},
   "outputs": [],
   "source": [
    "# testing no sparsity, no smoothness, 200 iterations\n",
    "import ssnmf\n",
    "model = ssnmf.smoothNMF(r=5, max_iter=200, betaW=0, betaH=0)\n",
    "model.fit(output['V'], W=output['init_W'], H=output['init_H'], init='custom')\n",
    "nt.assert_almost_equal(model.cost[-1],3636.162716116)"
   ]
  },
  {
   "cell_type": "code",
   "execution_count": 39,
   "metadata": {},
   "outputs": [],
   "source": [
    "# testing sparsity, 1 iteration\n",
    "import ssnmf\n",
    "model = ssnmf.smoothNMF(r=5, max_iter=1, sparsity=1, smoothness=0, betaW=0, betaH=0)\n",
    "model.fit(output['V'], W=output['init_W'], H=output['init_H'], init='custom')\n",
    "nt.assert_almost_equal(model.cost[-1],4750.738752595)"
   ]
  },
  {
   "cell_type": "code",
   "execution_count": 40,
   "metadata": {},
   "outputs": [
    {
     "name": "stdout",
     "output_type": "stream",
     "text": [
      "4.780944415814664\n",
      "39.60155523767054\n"
     ]
    }
   ],
   "source": [
    "# testing smoothness, 1 iteration\n",
    "import ssnmf\n",
    "model = ssnmf.smoothNMF(r=5, max_iter=1, sparsity=0, smoothness=1, betaW=0.0, betaH=0.0)\n",
    "model.fit(output['V'], W=output['init_W'], H=output['init_H'], init='custom')\n",
    "\n",
    "\n",
    "print(LA.norm(model.W))\n",
    "print(LA.norm(model.H))\n",
    "\n",
    "nt.assert_almost_equal(LA.norm(model.W),4.7809,decimal=4)\n",
    "nt.assert_almost_equal(LA.norm(model.H),39.6015,decimal=4)\n",
    "nt.assert_almost_equal(model.cost[-1],6667.921143908)"
   ]
  },
  {
   "cell_type": "code",
   "execution_count": 41,
   "metadata": {},
   "outputs": [],
   "source": [
    "# testing sparsity and smoothness, 1 iteration\n",
    "model = ssnmf.smoothNMF(r=5, max_iter=1, sparsity=1, smoothness=1, betaW=0, betaH=0)\n",
    "model.fit(output['V'], W=output['init_W'], H=output['init_H'], init='custom')\n",
    "nt.assert_almost_equal(model.cost[-1],6715.167611171)\n"
   ]
  },
  {
   "cell_type": "code",
   "execution_count": 42,
   "metadata": {},
   "outputs": [],
   "source": [
    "# testing sparsity and smoothness, 200 iterations\n",
    "import ssnmf\n",
    "model = ssnmf.smoothNMF(r=5, max_iter=200, sparsity=1, smoothness=1, betaW=0.0, betaH=0.0)\n",
    "model.fit(output['V'], W=output['init_W'], H=output['init_H'], init='custom')\n",
    "\n",
    "nt.assert_almost_equal(model.cost[-1],3909.6946, decimal=4)"
   ]
  },
  {
   "cell_type": "code",
   "execution_count": 43,
   "metadata": {},
   "outputs": [],
   "source": [
    "# testing sparsity and smoothness, 200 iterations\n",
    "import ssnmf\n",
    "model = ssnmf.smoothNMF(r=5, max_iter=200, sparsity=1, smoothness=1, betaW=0.1, betaH=0.1)\n",
    "model.fit(output['V'], W=output['init_W'], H=output['init_H'], init='custom')\n",
    "\n",
    "nt.assert_almost_equal(model.cost[-1],3893.69665, decimal=4)"
   ]
  },
  {
   "cell_type": "markdown",
   "metadata": {},
   "source": [
    "**Testing on the sonar dataset.**"
   ]
  },
  {
   "cell_type": "code",
   "execution_count": 44,
   "metadata": {},
   "outputs": [],
   "source": [
    "from scipy.io import loadmat\n",
    "output = loadmat(os.path.join('..','ssnmf','data','sonar_output.mat'))"
   ]
  },
  {
   "cell_type": "code",
   "execution_count": 45,
   "metadata": {},
   "outputs": [],
   "source": [
    "init_W = output['params_all']['init_W'][0,0]\n",
    "init_H = output['params_all']['init_H'][0,0]\n",
    "max_iter = output['params_all']['max_iter'][0,0]"
   ]
  },
  {
   "cell_type": "code",
   "execution_count": null,
   "metadata": {},
   "outputs": [],
   "source": []
  },
  {
   "cell_type": "code",
   "execution_count": 46,
   "metadata": {},
   "outputs": [
    {
     "name": "stdout",
     "output_type": "stream",
     "text": [
      "2516.922817573137\n",
      "CPU times: user 1.6 s, sys: 345 ms, total: 1.95 s\n",
      "Wall time: 509 ms\n"
     ]
    },
    {
     "data": {
      "image/png": "[encoded data removed]",
      "text/plain": [
       "<Figure size 432x288 with 1 Axes>"
      ]
     },
     "metadata": {
      "needs_background": "light"
     },
     "output_type": "display_data"
    }
   ],
   "source": [
    "%%time\n",
    "# testing no sparsity, no smoothnes, 1 iteration\n",
    "import ssnmf\n",
    "model = ssnmf.smoothNMF(r=3, max_iter=50, betaW=0, betaH=0)\n",
    "model.fit(output['LL'], W=init_W, H=init_H, init='custom')\n",
    "\n",
    "print(LA.norm(output['LL'] - (model.W@model.H)))\n",
    "\n",
    "plt.plot(model.cost)"
   ]
  },
  {
   "cell_type": "code",
   "execution_count": null,
   "metadata": {},
   "outputs": [],
   "source": []
  },
  {
   "cell_type": "code",
   "execution_count": 47,
   "metadata": {},
   "outputs": [],
   "source": [
    "W_reshaped = model.W.reshape(3, 144, 37, 3)"
   ]
  },
  {
   "cell_type": "code",
   "execution_count": 48,
   "metadata": {},
   "outputs": [
    {
     "data": {
      "text/plain": [
       "<matplotlib.image.AxesImage at 0x127cbab00>"
      ]
     },
     "execution_count": 48,
     "metadata": {},
     "output_type": "execute_result"
    },
    {
     "data": {
      "image/png": "[encoded data removed]",
      "text/plain": [
       "<Figure size 432x288 with 1 Axes>"
      ]
     },
     "metadata": {
      "needs_background": "light"
     },
     "output_type": "display_data"
    }
   ],
   "source": [
    "plt.imshow(W_reshaped[0,:,:,2].T)"
   ]
  },
  {
   "cell_type": "code",
   "execution_count": 49,
   "metadata": {},
   "outputs": [],
   "source": [
    "# seems rank is 3 instead of 5 ???"
   ]
  },
  {
   "cell_type": "code",
   "execution_count": 50,
   "metadata": {},
   "outputs": [
    {
     "data": {
      "text/plain": [
       "array([(array([[3]], dtype=uint8), array([[50]], dtype=uint8), array([[0]], dtype=uint8), array([[0]], dtype=uint8), array([[0.01]]), array([[0.81472369, 0.89638499, 0.9765793 ],\n",
       "       [0.90579194, 0.82233698, 0.64965081],\n",
       "       [0.12698682, 0.88278375, 0.94581752],\n",
       "       ...,\n",
       "       [0.74448884, 0.53463759, 0.12153136],\n",
       "       [0.21285622, 0.70127087, 0.9951019 ],\n",
       "       [0.10012246, 0.33829382, 0.32230971]]), array([[0.61255865, 0.52494092, 0.85378614, 0.57182458, 0.52551211,\n",
       "        0.90362677, 0.14140459, 0.23764004, 0.33325914, 0.07234922,\n",
       "        0.18453061, 0.88927026, 0.89008589, 0.77351042, 0.28932945,\n",
       "        0.2436337 , 0.81959437, 0.35335566, 0.65919615, 0.87309013,\n",
       "        0.69143526, 0.27778146, 0.50337604, 0.13789708, 0.72801385,\n",
       "        0.32615465, 0.20726351, 0.46598106, 0.33208926, 0.20162799,\n",
       "        0.72066244, 0.06452473, 0.52438631, 0.49361092, 0.43295562,\n",
       "        0.66192381, 0.46155452, 0.99513164, 0.92982287, 0.78726828,\n",
       "        0.12549798, 0.54263493, 0.07711769, 0.57924561, 0.20481378,\n",
       "        0.99067001, 0.30488538, 0.24947618, 0.03930187, 0.65631864,\n",
       "        0.27519028, 0.47622669, 0.46057815, 0.32871225, 0.96320064,\n",
       "        0.63744926, 0.47388063, 0.2127207 , 0.16366068, 0.50797375,\n",
       "        0.82602426, 0.65347559],\n",
       "       [0.31532567, 0.44601253, 0.42117152, 0.10229275, 0.78348171,\n",
       "        0.22199991, 0.22918305, 0.57813814, 0.23053108, 0.44984537,\n",
       "        0.95981331, 0.72198721, 0.26977148, 0.6878296 , 0.00757735,\n",
       "        0.95299357, 0.80390393, 0.42864322, 0.16165928, 0.12639176,\n",
       "        0.05624522, 0.4697187 , 0.69933368, 0.31692782, 0.87216382,\n",
       "        0.19660665, 0.145692  , 0.95800341, 0.46683854, 0.6932595 ,\n",
       "        0.37422155, 0.66139502, 0.82628005, 0.61567795, 0.32230857,\n",
       "        0.51752741, 0.48378344, 0.26267215, 0.20160198, 0.5287569 ,\n",
       "        0.1470839 , 0.86407321, 0.18065496, 0.83580625, 0.53162434,\n",
       "        0.99552133, 0.31337827, 0.48993541, 0.39983655, 0.20619396,\n",
       "        0.49924744, 0.96814769, 0.65926272, 0.83922771, 0.97361053,\n",
       "        0.8419357 , 0.24003343, 0.76566543, 0.45125477, 0.90363263,\n",
       "        0.021022  , 0.84792544],\n",
       "       [0.60034749, 0.12000022, 0.04859219, 0.15601255, 0.74745371,\n",
       "        0.39734329, 0.36769554, 0.53100231, 0.44039106, 0.6210124 ,\n",
       "        0.42917851, 0.99633282, 0.30146836, 0.1372518 , 0.22610442,\n",
       "        0.0451602 , 0.3055837 , 0.82565504, 0.83281249, 0.10341318,\n",
       "        0.38054349, 0.9505755 , 0.78800298, 0.932403  , 0.0906908 ,\n",
       "        0.46042227, 0.80325437, 0.9070013 , 0.90844817, 0.31510507,\n",
       "        0.73697538, 0.45159066, 0.98189571, 0.39137929, 0.66166672,\n",
       "        0.4530223 , 0.95680625, 0.77783924, 0.99403964, 0.66582637,\n",
       "        0.81251986, 0.14063191, 0.20800535, 0.0405771 , 0.54262835,\n",
       "        0.26387394, 0.63444134, 0.3667749 , 0.61503113, 0.78737262,\n",
       "        0.14181251, 0.25874316, 0.41998472, 0.52786355, 0.10935501,\n",
       "        0.81252217, 0.11285285, 0.34272711, 0.27220355, 0.44344654,\n",
       "        0.04641601, 0.33035884]]))],\n",
       "      dtype=[('r', 'O'), ('max_iter', 'O'), ('betaW', 'O'), ('betaH', 'O'), ('eta', 'O'), ('init_W', 'O'), ('init_H', 'O')])"
      ]
     },
     "execution_count": 50,
     "metadata": {},
     "output_type": "execute_result"
    }
   ],
   "source": [
    "output['params_all'][0]"
   ]
  },
  {
   "cell_type": "code",
   "execution_count": 51,
   "metadata": {},
   "outputs": [
    {
     "name": "stdout",
     "output_type": "stream",
     "text": [
      "1.2445425945401341e-12\n",
      "3.922246836568823e-14\n"
     ]
    }
   ],
   "source": [
    "print(LA.norm(output['W'] - model.W))\n",
    "print(LA.norm(output['H'] - model.H))"
   ]
  },
  {
   "cell_type": "code",
   "execution_count": null,
   "metadata": {},
   "outputs": [],
   "source": []
  },
  {
   "cell_type": "code",
   "execution_count": 52,
   "metadata": {},
   "outputs": [],
   "source": [
    "# output['params_all']['max_iter'][0,0]"
   ]
  },
  {
   "cell_type": "code",
   "execution_count": 53,
   "metadata": {},
   "outputs": [],
   "source": [
    "# display projection on first component"
   ]
  },
  {
   "cell_type": "code",
   "execution_count": 54,
   "metadata": {},
   "outputs": [
    {
     "name": "stdout",
     "output_type": "stream",
     "text": [
      "2516.922817573137\n"
     ]
    },
    {
     "data": {
      "text/plain": [
       "[<matplotlib.lines.Line2D at 0x127c54710>]"
      ]
     },
     "execution_count": 54,
     "metadata": {},
     "output_type": "execute_result"
    },
    {
     "data": {
      "image/png": "[encoded data removed]",
      "text/plain": [
       "<Figure size 432x288 with 1 Axes>"
      ]
     },
     "metadata": {
      "needs_background": "light"
     },
     "output_type": "display_data"
    }
   ],
   "source": [
    "# testing 0.1 sparsity, 0.1 smoothnes, 50 iterations\n",
    "betaW = 1.001\n",
    "betaH = 1.001\n",
    "model = ssnmf.smoothNMF(r=3, max_iter=50, betaW=1.001, betaH=1.001)\n",
    "model.fit(output['LL'], W=init_W, H=init_H, init='custom')\n",
    "\n",
    "print(LA.norm(output['LL'] - (model.W@model.H)))\n",
    "\n",
    "plt.plot(model.cost)"
   ]
  },
  {
   "cell_type": "code",
   "execution_count": 63,
   "metadata": {},
   "outputs": [
    {
     "name": "stdout",
     "output_type": "stream",
     "text": [
      "1452.201699523269\n"
     ]
    },
    {
     "data": {
      "text/plain": [
       "[<matplotlib.lines.Line2D at 0x129486e48>]"
      ]
     },
     "execution_count": 63,
     "metadata": {},
     "output_type": "execute_result"
    },
    {
     "data": {
      "image/png": "[encoded data removed]",
      "text/plain": [
       "<Figure size 432x288 with 1 Axes>"
      ]
     },
     "metadata": {
      "needs_background": "light"
     },
     "output_type": "display_data"
    }
   ],
   "source": [
    "# testing 0.1 sparsity, 0.1 smoothnes, 1000 iterations\n",
    "betaW = 1.001\n",
    "betaH = 1.001\n",
    "model_random = ssnmf.smoothNMF(r=3, max_iter=1000, betaW=1.001, betaH=1.001)\n",
    "model_random.fit(output['LL'], W=init_W, H=init_H, init='custom')\n",
    "\n",
    "print(LA.norm(output['LL'] - (model.W@model.H)))\n",
    "\n",
    "plt.plot(model.cost)"
   ]
  },
  {
   "cell_type": "code",
   "execution_count": 74,
   "metadata": {},
   "outputs": [
    {
     "name": "stdout",
     "output_type": "stream",
     "text": [
      "1452.201699523269\n"
     ]
    },
    {
     "data": {
      "text/plain": [
       "[<matplotlib.lines.Line2D at 0x129b06470>]"
      ]
     },
     "execution_count": 74,
     "metadata": {},
     "output_type": "execute_result"
    },
    {
     "data": {
      "image/png": "[encoded data removed]",
      "text/plain": [
       "<Figure size 432x288 with 1 Axes>"
      ]
     },
     "metadata": {
      "needs_background": "light"
     },
     "output_type": "display_data"
    }
   ],
   "source": [
    "# testing 0.1 sparsity, 0.1 smoothnes, 50 iterations, svd initialization\n",
    "betaW = 1.001\n",
    "betaH = 1.001\n",
    "model_nndsvd = ssnmf.smoothNMF(r=3, max_iter=10000, betaW=1.001, betaH=1.001)\n",
    "model_nndsvd.fit(output['LL'], W=init_W, H=init_H, init='nndsvd')\n",
    "\n",
    "print(LA.norm(output['LL'] - (model.W@model.H)))\n",
    "\n",
    "plt.plot(model_nndsvd.cost)"
   ]
  },
  {
   "cell_type": "code",
   "execution_count": 75,
   "metadata": {},
   "outputs": [
    {
     "name": "stdout",
     "output_type": "stream",
     "text": [
      "1452.201699523269\n"
     ]
    },
    {
     "data": {
      "text/plain": [
       "[<matplotlib.lines.Line2D at 0x129bf8780>]"
      ]
     },
     "execution_count": 75,
     "metadata": {},
     "output_type": "execute_result"
    },
    {
     "data": {
      "image/png": "[encoded data removed]",
      "text/plain": [
       "<Figure size 432x288 with 1 Axes>"
      ]
     },
     "metadata": {
      "needs_background": "light"
     },
     "output_type": "display_data"
    }
   ],
   "source": [
    "# testing 0.1 sparsity, 0.1 smoothnes, 50 iterations, svd initialization\n",
    "betaW = 1.001\n",
    "betaH = 1.001\n",
    "model_nndsvd = ssnmf.smoothNMF(r=3, max_iter=10000, betaW=1.001, betaH=1.001)\n",
    "model_nndsvd.fit(output['LL'], W=init_W, H=init_H, init='nndsvd')\n",
    "\n",
    "print(LA.norm(output['LL'] - (model.W@model.H)))\n",
    "\n",
    "plt.plot(model_nndsvd.cost)"
   ]
  },
  {
   "cell_type": "code",
   "execution_count": 76,
   "metadata": {},
   "outputs": [
    {
     "data": {
      "text/plain": [
       "[<matplotlib.lines.Line2D at 0x129b1c128>]"
      ]
     },
     "execution_count": 76,
     "metadata": {},
     "output_type": "execute_result"
    },
    {
     "data": {
      "image/png": "[encoded data removed]",
      "text/plain": [
       "<Figure size 432x288 with 1 Axes>"
      ]
     },
     "metadata": {
      "needs_background": "light"
     },
     "output_type": "display_data"
    }
   ],
   "source": [
    "plt.plot(model_nndsvd.cost)\n",
    "plt.plot(model_random.cost)"
   ]
  },
  {
   "cell_type": "code",
   "execution_count": null,
   "metadata": {},
   "outputs": [],
   "source": []
  },
  {
   "cell_type": "code",
   "execution_count": 83,
   "metadata": {},
   "outputs": [
    {
     "name": "stdout",
     "output_type": "stream",
     "text": [
      "1452.201699523269\n"
     ]
    },
    {
     "data": {
      "text/plain": [
       "[<matplotlib.lines.Line2D at 0x12a02e4e0>]"
      ]
     },
     "execution_count": 83,
     "metadata": {},
     "output_type": "execute_result"
    },
    {
     "data": {
      "image/png": "[encoded data removed]",
      "text/plain": [
       "<Figure size 432x288 with 1 Axes>"
      ]
     },
     "metadata": {
      "needs_background": "light"
     },
     "output_type": "display_data"
    }
   ],
   "source": [
    "# testing 0.1 sparsity, 0.1 smoothnes, 50 iterations, svd initialization\n",
    "betaW = 1.001\n",
    "betaH = 1.001\n",
    "model_nndsvda = ssnmf.smoothNMF(r=3, max_iter=10000, betaW=1.001, betaH=1.001)\n",
    "model_nndsvda.fit(output['LL'], W=init_W, H=init_H, init='nndsvd')\n",
    "\n",
    "print(LA.norm(output['LL'] - (model.W@model.H)))\n",
    "\n",
    "plt.plot(model_nndsvda.cost)"
   ]
  },
  {
   "cell_type": "code",
   "execution_count": 94,
   "metadata": {},
   "outputs": [
    {
     "data": {
      "text/plain": [
       "<matplotlib.legend.Legend at 0x12abc66d8>"
      ]
     },
     "execution_count": 94,
     "metadata": {},
     "output_type": "execute_result"
    },
    {
     "data": {
      "image/png": "[encoded data removed]",
      "text/plain": [
       "<Figure size 432x288 with 1 Axes>"
      ]
     },
     "metadata": {
      "needs_background": "light"
     },
     "output_type": "display_data"
    }
   ],
   "source": [
    "import numpy as np\n",
    "plt.subplot(2, 1, 1)\n",
    "plt.plot(np.log(model_random.cost), 'm')\n",
    "plt.plot(np.log(model_nndsvd.cost), 'g')\n",
    "plt.plot(np.log(model_nndsvda.cost), 'c')\n",
    "plt.title('Cost')\n",
    "plt.xlabel('Iteration')\n",
    "plt.legend(['custom','nndsvd','nndsvda'])"
   ]
  },
  {
   "cell_type": "code",
   "execution_count": 96,
   "metadata": {},
   "outputs": [
    {
     "name": "stdout",
     "output_type": "stream",
     "text": [
      "1.7996247547562652\n",
      "1.7983025809972022\n",
      "1.7983025809972022\n"
     ]
    }
   ],
   "source": [
    "print(model_random.cost[-1]/len(output['LL'].ravel()))\n",
    "print(model_nndsvd.cost[-1]/len(output['LL'].ravel()))\n",
    "print(model_nndsvda.cost[-1]/len(output['LL'].ravel()))\n"
   ]
  },
  {
   "cell_type": "code",
   "execution_count": null,
   "metadata": {},
   "outputs": [],
   "source": []
  }
 ],
 "metadata": {
  "kernelspec": {
   "display_name": "Python 3",
   "language": "python",
   "name": "python3"
  },
  "language_info": {
   "codemirror_mode": {
    "name": "ipython",
    "version": 3
   },
   "file_extension": ".py",
   "mimetype": "text/x-python",
   "name": "python",
   "nbconvert_exporter": "python",
   "pygments_lexer": "ipython3",
   "version": "3.6.6"
  }
 },
 "nbformat": 4,
 "nbformat_minor": 2
}
