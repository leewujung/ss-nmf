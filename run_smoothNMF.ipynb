{
 "cells": [
  {
   "cell_type": "code",
   "execution_count": 8,
   "metadata": {},
   "outputs": [],
   "source": [
    "import numpy.testing as nt"
   ]
  },
  {
   "cell_type": "code",
   "execution_count": 9,
   "metadata": {},
   "outputs": [],
   "source": [
    "import matplotlib.pyplot as plt\n",
    "%matplotlib inline\n",
    "\n",
    "from scipy.io import loadmat\n",
    "output = loadmat('output.mat')"
   ]
  },
  {
   "cell_type": "code",
   "execution_count": 10,
   "metadata": {},
   "outputs": [
    {
     "name": "stdout",
     "output_type": "stream",
     "text": [
      "97.552967789\n"
     ]
    },
    {
     "data": {
      "text/plain": [
       "[<matplotlib.lines.Line2D at 0x10cd70860>]"
      ]
     },
     "execution_count": 10,
     "metadata": {},
     "output_type": "execute_result"
    },
    {
     "data": {
      "image/png": "[encoded data removed]",
      "text/plain": [
       "<matplotlib.figure.Figure at 0x10a34d780>"
      ]
     },
     "metadata": {},
     "output_type": "display_data"
    }
   ],
   "source": [
    "# testing no sparsity, no smoothnes, 1 iteration\n",
    "%run palm_nmf.py\n",
    "model = smoothNMF(r=5, max_iter=1, betaW=0, betaH=0)\n",
    "model.fit(output['V'], W=output['init_W'], H=output['init_H'])\n",
    "\n",
    "print(LA.norm(output['V'] - (model.W@model.H)))\n",
    "\n",
    "plt.plot(model.cost)"
   ]
  },
  {
   "cell_type": "code",
   "execution_count": null,
   "metadata": {},
   "outputs": [],
   "source": []
  },
  {
   "cell_type": "code",
   "execution_count": null,
   "metadata": {},
   "outputs": [],
   "source": []
  },
  {
   "cell_type": "code",
   "execution_count": null,
   "metadata": {},
   "outputs": [],
   "source": []
  },
  {
   "cell_type": "code",
   "execution_count": 11,
   "metadata": {},
   "outputs": [],
   "source": [
    "# testing the initial distance\n",
    "nt.assert_almost_equal(LA.norm(output['V'] - (output['init_W']@output['init_H'])),213.432630275)"
   ]
  },
  {
   "cell_type": "code",
   "execution_count": 12,
   "metadata": {},
   "outputs": [],
   "source": [
    "# compare cost after 1 iteration\n",
    "nt.assert_almost_equal(model.cost, 9516.581524438)"
   ]
  },
  {
   "cell_type": "code",
   "execution_count": 13,
   "metadata": {},
   "outputs": [
    {
     "data": {
      "text/plain": [
       "<matplotlib.figure.Figure at 0x10cd3f3c8>"
      ]
     },
     "metadata": {},
     "output_type": "display_data"
    }
   ],
   "source": [
    "# testing no sparsity, no smoothness, 200 iterations\n",
    "%run palm_nmf.py\n",
    "model = smoothNMF(r=5, max_iter=200, betaW=0, betaH=0)\n",
    "model.fit(output['V'], W=output['init_W'], H=output['init_H'])\n",
    "nt.assert_almost_equal(model.cost[-1],3636.162716116)"
   ]
  },
  {
   "cell_type": "code",
   "execution_count": null,
   "metadata": {},
   "outputs": [],
   "source": []
  },
  {
   "cell_type": "code",
   "execution_count": null,
   "metadata": {},
   "outputs": [],
   "source": []
  },
  {
   "cell_type": "code",
   "execution_count": 14,
   "metadata": {},
   "outputs": [],
   "source": [
    "# testing sparsity, 1 iteration\n",
    "%run palm_nmf.py\n",
    "model = smoothNMF(r=5, max_iter=1, sparsity=1, smoothness=0, betaW=0, betaH=0)\n",
    "model.fit(output['V'], W=output['init_W'], H=output['init_H'])\n",
    "nt.assert_almost_equal(model.cost[-1],4750.738752595)"
   ]
  },
  {
   "cell_type": "code",
   "execution_count": 15,
   "metadata": {},
   "outputs": [
    {
     "name": "stdout",
     "output_type": "stream",
     "text": [
      "4.78094441581\n",
      "39.6015552377\n"
     ]
    }
   ],
   "source": [
    "# testing smoothness, 1 iteration\n",
    "%run palm_nmf.py\n",
    "model = smoothNMF(r=5, max_iter=1, sparsity=0, smoothness=1, betaW=0.0, betaH=0.0)\n",
    "model.fit(output['V'], W=output['init_W'], H=output['init_H'])\n",
    "\n",
    "import numpy.linalg as LA\n",
    "print(LA.norm(model.W))\n",
    "print(LA.norm(model.H))\n",
    "\n",
    "nt.assert_almost_equal(LA.norm(model.W),4.7809,decimal=4)\n",
    "nt.assert_almost_equal(LA.norm(model.H),39.6015,decimal=4)\n",
    "nt.assert_almost_equal(model.cost[-1],6667.921143908)"
   ]
  },
  {
   "cell_type": "code",
   "execution_count": 16,
   "metadata": {},
   "outputs": [],
   "source": [
    "# testing sparsity and smoothness, 1 iteration\n",
    "model = smoothNMF(r=5, max_iter=1, sparsity=1, smoothness=1, betaW=0, betaH=0)\n",
    "model.fit(output['V'], W=output['init_W'], H=output['init_H'])\n",
    "nt.assert_almost_equal(model.cost[-1],6715.167611171)\n"
   ]
  },
  {
   "cell_type": "code",
   "execution_count": 20,
   "metadata": {},
   "outputs": [],
   "source": [
    "# testing sparsity and smoothness, 200 iterations\n",
    "%run palm_nmf.py\n",
    "model = smoothNMF(r=5, max_iter=200, sparsity=1, smoothness=1, betaW=0.0, betaH=0.0)\n",
    "model.fit(output['V'], W=output['init_W'], H=output['init_H'])\n",
    "\n",
    "nt.assert_almost_equal(model.cost[-1],3909.6946, decimal=4)"
   ]
  },
  {
   "cell_type": "code",
   "execution_count": 22,
   "metadata": {},
   "outputs": [],
   "source": [
    "# testing sparsity and smoothness, 200 iterations\n",
    "%run palm_nmf.py\n",
    "model = smoothNMF(r=5, max_iter=200, sparsity=1, smoothness=1, betaW=0.1, betaH=0.1)\n",
    "model.fit(output['V'], W=output['init_W'], H=output['init_H'])\n",
    "\n",
    "nt.assert_almost_equal(model.cost[-1],3893.69665, decimal=4)"
   ]
  },
  {
   "cell_type": "code",
   "execution_count": null,
   "metadata": {},
   "outputs": [],
   "source": []
  }
 ],
 "metadata": {
  "kernelspec": {
   "display_name": "Python 3",
   "language": "python",
   "name": "python3"
  },
  "language_info": {
   "codemirror_mode": {
    "name": "ipython",
    "version": 3
   },
   "file_extension": ".py",
   "mimetype": "text/x-python",
   "name": "python",
   "nbconvert_exporter": "python",
   "pygments_lexer": "ipython3",
   "version": "3.6.1"
  }
 },
 "nbformat": 4,
 "nbformat_minor": 2
}
