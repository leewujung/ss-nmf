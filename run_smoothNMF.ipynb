{
 "cells": [
  {
   "cell_type": "code",
   "execution_count": 1,
   "metadata": {},
   "outputs": [],
   "source": [
    "import numpy.testing as nt"
   ]
  },
  {
   "cell_type": "code",
   "execution_count": 2,
   "metadata": {},
   "outputs": [],
   "source": [
    "import matplotlib.pyplot as plt\n",
    "%matplotlib inline"
   ]
  },
  {
   "cell_type": "code",
   "execution_count": null,
   "metadata": {},
   "outputs": [],
   "source": [
    "from scipy.io import loadmat\n",
    "output = loadmat('output.mat')"
   ]
  },
  {
   "cell_type": "code",
   "execution_count": null,
   "metadata": {},
   "outputs": [],
   "source": [
    "# testing no sparsity, no smoothnes, 1 iteration\n",
    "%run palm_nmf.py\n",
    "model = smoothNMF(r=5, max_iter=1, betaW=0, betaH=0)\n",
    "model.fit(output['V'], W=output['init_W'], H=output['init_H'])\n",
    "\n",
    "print(LA.norm(output['V'] - (model.W@model.H)))\n",
    "\n",
    "plt.plot(model.cost)"
   ]
  },
  {
   "cell_type": "code",
   "execution_count": null,
   "metadata": {},
   "outputs": [],
   "source": []
  },
  {
   "cell_type": "code",
   "execution_count": null,
   "metadata": {},
   "outputs": [],
   "source": []
  },
  {
   "cell_type": "code",
   "execution_count": null,
   "metadata": {},
   "outputs": [],
   "source": []
  },
  {
   "cell_type": "code",
   "execution_count": null,
   "metadata": {},
   "outputs": [],
   "source": [
    "# testing the initial distance\n",
    "nt.assert_almost_equal(LA.norm(output['V'] - (output['init_W']@output['init_H'])),213.432630275)"
   ]
  },
  {
   "cell_type": "code",
   "execution_count": null,
   "metadata": {},
   "outputs": [],
   "source": [
    "# compare cost after 1 iteration\n",
    "nt.assert_almost_equal(model.cost, 9516.581524438)"
   ]
  },
  {
   "cell_type": "code",
   "execution_count": null,
   "metadata": {},
   "outputs": [],
   "source": [
    "# testing no sparsity, no smoothness, 200 iterations\n",
    "%run palm_nmf.py\n",
    "model = smoothNMF(r=5, max_iter=200, betaW=0, betaH=0)\n",
    "model.fit(output['V'], W=output['init_W'], H=output['init_H'])\n",
    "nt.assert_almost_equal(model.cost[-1],3636.162716116)"
   ]
  },
  {
   "cell_type": "code",
   "execution_count": null,
   "metadata": {},
   "outputs": [],
   "source": []
  },
  {
   "cell_type": "code",
   "execution_count": null,
   "metadata": {},
   "outputs": [],
   "source": []
  },
  {
   "cell_type": "code",
   "execution_count": null,
   "metadata": {},
   "outputs": [],
   "source": [
    "# testing sparsity, 1 iteration\n",
    "%run palm_nmf.py\n",
    "model = smoothNMF(r=5, max_iter=1, sparsity=1, smoothness=0, betaW=0, betaH=0)\n",
    "model.fit(output['V'], W=output['init_W'], H=output['init_H'])\n",
    "nt.assert_almost_equal(model.cost[-1],4750.738752595)"
   ]
  },
  {
   "cell_type": "code",
   "execution_count": null,
   "metadata": {},
   "outputs": [],
   "source": [
    "# testing smoothness, 1 iteration\n",
    "%run palm_nmf.py\n",
    "model = smoothNMF(r=5, max_iter=1, sparsity=0, smoothness=1, betaW=0.0, betaH=0.0)\n",
    "model.fit(output['V'], W=output['init_W'], H=output['init_H'])\n",
    "\n",
    "import numpy.linalg as LA\n",
    "print(LA.norm(model.W))\n",
    "print(LA.norm(model.H))\n",
    "\n",
    "nt.assert_almost_equal(LA.norm(model.W),4.7809,decimal=4)\n",
    "nt.assert_almost_equal(LA.norm(model.H),39.6015,decimal=4)\n",
    "nt.assert_almost_equal(model.cost[-1],6667.921143908)"
   ]
  },
  {
   "cell_type": "code",
   "execution_count": null,
   "metadata": {},
   "outputs": [],
   "source": [
    "# testing sparsity and smoothness, 1 iteration\n",
    "model = smoothNMF(r=5, max_iter=1, sparsity=1, smoothness=1, betaW=0, betaH=0)\n",
    "model.fit(output['V'], W=output['init_W'], H=output['init_H'])\n",
    "nt.assert_almost_equal(model.cost[-1],6715.167611171)\n"
   ]
  },
  {
   "cell_type": "code",
   "execution_count": null,
   "metadata": {},
   "outputs": [],
   "source": [
    "# testing sparsity and smoothness, 200 iterations\n",
    "%run palm_nmf.py\n",
    "model = smoothNMF(r=5, max_iter=200, sparsity=1, smoothness=1, betaW=0.0, betaH=0.0)\n",
    "model.fit(output['V'], W=output['init_W'], H=output['init_H'])\n",
    "\n",
    "nt.assert_almost_equal(model.cost[-1],3909.6946, decimal=4)"
   ]
  },
  {
   "cell_type": "code",
   "execution_count": null,
   "metadata": {},
   "outputs": [],
   "source": [
    "# testing sparsity and smoothness, 200 iterations\n",
    "%run palm_nmf.py\n",
    "model = smoothNMF(r=5, max_iter=200, sparsity=1, smoothness=1, betaW=0.1, betaH=0.1)\n",
    "model.fit(output['V'], W=output['init_W'], H=output['init_H'])\n",
    "\n",
    "nt.assert_almost_equal(model.cost[-1],3893.69665, decimal=4)"
   ]
  },
  {
   "cell_type": "markdown",
   "metadata": {},
   "source": [
    "**Testing on the sonar dataset.**"
   ]
  },
  {
   "cell_type": "code",
   "execution_count": 3,
   "metadata": {},
   "outputs": [],
   "source": [
    "from scipy.io import loadmat\n",
    "output = loadmat('sonar_output.mat')"
   ]
  },
  {
   "cell_type": "code",
   "execution_count": 4,
   "metadata": {},
   "outputs": [],
   "source": [
    "init_W = output['params_all']['init_W'][0,0]\n",
    "init_H = output['params_all']['init_H'][0,0]\n",
    "max_iter = output['params_all']['max_iter'][0,0]"
   ]
  },
  {
   "cell_type": "code",
   "execution_count": 15,
   "metadata": {},
   "outputs": [
    {
     "name": "stdout",
     "output_type": "stream",
     "text": [
      "1337.1587404\n"
     ]
    },
    {
     "data": {
      "text/plain": [
       "[<matplotlib.lines.Line2D at 0xb16b54da0>]"
      ]
     },
     "execution_count": 15,
     "metadata": {},
     "output_type": "execute_result"
    },
    {
     "data": {
      "image/png": "[encoded data removed]",
      "text/plain": [
       "<matplotlib.figure.Figure at 0x106ecc0f0>"
      ]
     },
     "metadata": {},
     "output_type": "display_data"
    }
   ],
   "source": [
    "# testing no sparsity, no smoothnes, 1 iteration\n",
    "%run palm_nmf.py\n",
    "model = smoothNMF(r=3, max_iter=300, betaW=0, betaH=0)\n",
    "model.fit(output['LL'], W=init_W, H=init_H)\n",
    "\n",
    "print(LA.norm(output['LL'] - (model.W@model.H)))\n",
    "\n",
    "plt.plot(model.cost)"
   ]
  },
  {
   "cell_type": "code",
   "execution_count": 6,
   "metadata": {},
   "outputs": [
    {
     "data": {
      "text/plain": [
       "(15984, 3)"
      ]
     },
     "execution_count": 6,
     "metadata": {},
     "output_type": "execute_result"
    }
   ],
   "source": [
    "model.W.shape"
   ]
  },
  {
   "cell_type": "code",
   "execution_count": null,
   "metadata": {},
   "outputs": [],
   "source": []
  },
  {
   "cell_type": "markdown",
   "metadata": {},
   "source": []
  },
  {
   "cell_type": "code",
   "execution_count": null,
   "metadata": {},
   "outputs": [],
   "source": []
  },
  {
   "cell_type": "code",
   "execution_count": null,
   "metadata": {},
   "outputs": [],
   "source": [
    "W_reshaped = model.W.reshape(3, 144, 37, 3)"
   ]
  },
  {
   "cell_type": "code",
   "execution_count": null,
   "metadata": {},
   "outputs": [],
   "source": [
    "plt.imshow(W_reshaped[0,:,:,2].T)"
   ]
  },
  {
   "cell_type": "code",
   "execution_count": null,
   "metadata": {},
   "outputs": [],
   "source": [
    "# seems rank is 3 instead of 5 ???"
   ]
  },
  {
   "cell_type": "code",
   "execution_count": 8,
   "metadata": {},
   "outputs": [
    {
     "data": {
      "text/plain": [
       "array([ (array([[3]], dtype=uint8), array([[300]], dtype=uint16), array([[0]], dtype=uint8), array([[0]], dtype=uint8), array([[ 0.01]]), array([[ 0.79356926,  0.68583276,  0.47923722],\n",
       "       [ 0.25147678,  0.02458174,  0.74093368],\n",
       "       [ 0.35542153,  0.65563691,  0.16546669],\n",
       "       ..., \n",
       "       [ 0.30393594,  0.53490385,  0.479648  ],\n",
       "       [ 0.22579433,  0.0252459 ,  0.88181876],\n",
       "       [ 0.70095586,  0.70817463,  0.81695918]]), array([[ 0.67173166,  0.9991151 ,  0.04148563,  0.83565353,  0.12747172,\n",
       "         0.03011316,  0.65920973,  0.52926348,  0.31257499,  0.20841812,\n",
       "         0.47469398,  0.6112216 ,  0.07895626,  0.84482034,  0.6800992 ,\n",
       "         0.70241879,  0.22143426,  0.993841  ,  0.98164242,  0.41348014,\n",
       "         0.04923387,  0.50095291,  0.33073989,  0.14085829,  0.53415768,\n",
       "         0.37381895,  0.23466282,  0.85890473,  0.78751958,  0.06436809,\n",
       "         0.72707547,  0.92573622,  0.22753771,  0.11108188,  0.13246447,\n",
       "         0.89778745,  0.86979509,  0.41128412,  0.40368932,  0.40291841,\n",
       "         0.91990424,  0.56035794,  0.19789892,  0.17490232,  0.28444189,\n",
       "         0.12110986,  0.7141019 ,  0.61485872,  0.14379459,  0.95226224,\n",
       "         0.11136647,  0.40142891,  0.11221325,  0.50573912,  0.29645385,\n",
       "         0.42133138,  0.72710318,  0.67229601,  0.78766276,  0.24778314,\n",
       "         0.38839259,  0.37152164],\n",
       "       [ 0.79827958,  0.72736939,  0.73287722,  0.74360186,  0.80779193,\n",
       "         0.34989181,  0.40592581,  0.47288924,  0.83432037,  0.75404493,\n",
       "         0.92937459,  0.91482001,  0.67331787,  0.59690924,  0.65540159,\n",
       "         0.28079884,  0.4838651 ,  0.40935708,  0.24751719,  0.11231093,\n",
       "         0.26861447,  0.86154045,  0.60139602,  0.92771264,  0.41536618,\n",
       "         0.24658373,  0.19093766,  0.26382873,  0.6142501 ,  0.96672783,\n",
       "         0.5787492 ,  0.44057926,  0.97879793,  0.62746326,  0.72426402,\n",
       "         0.14998084,  0.4449576 ,  0.4618346 ,  0.35739849,  0.78847183,\n",
       "         0.94636087,  0.80289289,  0.92751859,  0.08045445,  0.5777247 ,\n",
       "         0.31692109,  0.45964034,  0.24185885,  0.63168827,  0.48386357,\n",
       "         0.75550919,  0.54813654,  0.96258394,  0.18367925,  0.95762834,\n",
       "         0.66228966,  0.80776944,  0.13491453,  0.63585233,  0.87437305,\n",
       "         0.48991553,  0.02897879],\n",
       "       [ 0.16926258,  0.10451321,  0.80650959,  0.05594309,  0.72043169,\n",
       "         0.98828697,  0.4715231 ,  0.66924156,  0.5320477 ,  0.00215323,\n",
       "         0.89669195,  0.23801381,  0.12709463,  0.88054536,  0.18692193,\n",
       "         0.67779302,  0.74354736,  0.04630847,  0.98308118,  0.42504569,\n",
       "         0.41134603,  0.49365897,  0.2980595 ,  0.22170697,  0.03387081,\n",
       "         0.91264131,  0.54291139,  0.50050777,  0.2079482 ,  0.4677345 ,\n",
       "         0.20524659,  0.91235214,  0.21438845,  0.24907302,  0.28787801,\n",
       "         0.69814359,  0.28602618,  0.72927822,  0.36111361,  0.52324716,\n",
       "         0.67739836,  0.64379159,  0.6365132 ,  0.5296608 ,  0.77639407,\n",
       "         0.06250672,  0.76364719,  0.62950301,  0.35426078,  0.46097802,\n",
       "         0.20398097,  0.26901589,  0.232965  ,  0.69902853,  0.52097146,\n",
       "         0.40925752,  0.78114974,  0.13814876,  0.53098122,  0.98900434,\n",
       "         0.30588203,  0.23495957]]))],\n",
       "      dtype=[('r', 'O'), ('max_iter', 'O'), ('betaW', 'O'), ('betaH', 'O'), ('eta', 'O'), ('init_W', 'O'), ('init_H', 'O')])"
      ]
     },
     "execution_count": 8,
     "metadata": {},
     "output_type": "execute_result"
    }
   ],
   "source": [
    "output['params_all'][0]"
   ]
  },
  {
   "cell_type": "code",
   "execution_count": 10,
   "metadata": {},
   "outputs": [
    {
     "name": "stdout",
     "output_type": "stream",
     "text": [
      "23.4337058716\n"
     ]
    },
    {
     "ename": "KeyError",
     "evalue": "'V'",
     "output_type": "error",
     "traceback": [
      "\u001b[0;31m---------------------------------------------------------------------------\u001b[0m",
      "\u001b[0;31mKeyError\u001b[0m                                  Traceback (most recent call last)",
      "\u001b[0;32m<ipython-input-10-3492d243c76f>\u001b[0m in \u001b[0;36m<module>\u001b[0;34m()\u001b[0m\n\u001b[1;32m      1\u001b[0m \u001b[0mprint\u001b[0m\u001b[0;34m(\u001b[0m\u001b[0mLA\u001b[0m\u001b[0;34m.\u001b[0m\u001b[0mnorm\u001b[0m\u001b[0;34m(\u001b[0m\u001b[0moutput\u001b[0m\u001b[0;34m[\u001b[0m\u001b[0;34m'W'\u001b[0m\u001b[0;34m]\u001b[0m \u001b[0;34m-\u001b[0m \u001b[0mmodel\u001b[0m\u001b[0;34m.\u001b[0m\u001b[0mW\u001b[0m\u001b[0;34m)\u001b[0m\u001b[0;34m)\u001b[0m\u001b[0;34m\u001b[0m\u001b[0m\n\u001b[0;32m----> 2\u001b[0;31m \u001b[0mprint\u001b[0m\u001b[0;34m(\u001b[0m\u001b[0mLA\u001b[0m\u001b[0;34m.\u001b[0m\u001b[0mnorm\u001b[0m\u001b[0;34m(\u001b[0m\u001b[0moutput\u001b[0m\u001b[0;34m[\u001b[0m\u001b[0;34m'V'\u001b[0m\u001b[0;34m]\u001b[0m \u001b[0;34m-\u001b[0m \u001b[0mmodel\u001b[0m\u001b[0;34m.\u001b[0m\u001b[0mV\u001b[0m\u001b[0;34m)\u001b[0m\u001b[0;34m)\u001b[0m\u001b[0;34m\u001b[0m\u001b[0m\n\u001b[0m",
      "\u001b[0;31mKeyError\u001b[0m: 'V'"
     ]
    }
   ],
   "source": [
    "print(LA.norm(output['W'] - model.W))\n",
    "print(LA.norm(output['V'] - model.V))"
   ]
  },
  {
   "cell_type": "code",
   "execution_count": 16,
   "metadata": {},
   "outputs": [
    {
     "data": {
      "text/plain": [
       "array([[300]], dtype=uint16)"
      ]
     },
     "execution_count": 16,
     "metadata": {},
     "output_type": "execute_result"
    }
   ],
   "source": [
    "output['params_all']['max_iter'][0,0]"
   ]
  },
  {
   "cell_type": "code",
   "execution_count": 17,
   "metadata": {},
   "outputs": [],
   "source": [
    "# display projection on first component"
   ]
  },
  {
   "cell_type": "code",
   "execution_count": null,
   "metadata": {},
   "outputs": [],
   "source": []
  }
 ],
 "metadata": {
  "kernelspec": {
   "display_name": "Python 3",
   "language": "python",
   "name": "python3"
  },
  "language_info": {
   "codemirror_mode": {
    "name": "ipython",
    "version": 3
   },
   "file_extension": ".py",
   "mimetype": "text/x-python",
   "name": "python",
   "nbconvert_exporter": "python",
   "pygments_lexer": "ipython3",
   "version": "3.6.1"
  }
 },
 "nbformat": 4,
 "nbformat_minor": 2
}
